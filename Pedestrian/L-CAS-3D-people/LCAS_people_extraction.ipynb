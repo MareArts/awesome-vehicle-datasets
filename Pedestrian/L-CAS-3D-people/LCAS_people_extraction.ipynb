{
 "cells": [
  {
   "cell_type": "markdown",
   "metadata": {},
   "source": [
    "# LCAS People Cloud point Extration \n",
    "\n",
    "- 본 노트북에서는 Lincoln대 L-CAS연구팀에서 배포 하는 [L-CAS 3D Point Cloud People Dataset](https://lcas.lincoln.ac.uk/wp/research/data-sets-software/l-cas-3d-point-cloud-people-dataset/)데이터셋에서 라벨 데이터를 이용하여 사람만 추출하여 PCD파일로 저장 하는 방법을 다루고 있습니다. \n",
    "\n",
    "> 아직은 한 라벨에 한 사람만 있는 경우만 추출 합니다. \n"
   ]
  },
  {
   "cell_type": "code",
   "execution_count": 53,
   "metadata": {},
   "outputs": [
    {
     "name": "stdout",
     "output_type": "stream",
     "text": [
      "The watermark extension is already loaded. To reload it, use:\n",
      "  %reload_ext watermark\n",
      "2018-12-12 \n",
      "\n",
      "CPython 3.5.2\n",
      "IPython 6.4.0\n",
      "\n",
      "numpy 1.14.5\n",
      "python-pcl==0.3\n"
     ]
    }
   ],
   "source": [
    "%load_ext watermark\n",
    "%watermark -d -v -p numpy\n",
    "!pip freeze | grep pcl"
   ]
  },
  {
   "cell_type": "code",
   "execution_count": 45,
   "metadata": {},
   "outputs": [],
   "source": [
    "import pandas as pd\n",
    "from open3d import *\n",
    "import matplotlib.pyplot as plt\n",
    "from mpl_toolkits.mplot3d import Axes3D\n",
    "import numpy as np \n",
    "%matplotlib inline  \n",
    "import glob\n",
    "import pcl\n",
    "import os\n",
    "from tqdm import tqdm_notebook"
   ]
  },
  {
   "cell_type": "code",
   "execution_count": 2,
   "metadata": {},
   "outputs": [],
   "source": [
    "import sys\n",
    "sys.path.append(\"/workspace/include\")\n",
    "from visualization_helper import *\n",
    "from filter_helper import do_passthrough"
   ]
  },
  {
   "cell_type": "code",
   "execution_count": 26,
   "metadata": {},
   "outputs": [],
   "source": [
    "labels = glob.glob('./LCAS_20160523_1200_1218_labels/*')\n",
    "clouds = glob.glob('./LCAS_20160523_1200_1218_pcd/*')"
   ]
  },
  {
   "cell_type": "code",
   "execution_count": 44,
   "metadata": {},
   "outputs": [
    {
     "name": "stdout",
     "output_type": "stream",
     "text": [
      "전체 Label수 : 5492\n",
      "전체 PCD 수 : 8143\n"
     ]
    }
   ],
   "source": [
    "print(\"전체 Label수 : {}\".format(len(labels)))\n",
    "print(\"전체 PCD 수 : {}\".format(len(clouds)))"
   ]
  },
  {
   "cell_type": "code",
   "execution_count": 46,
   "metadata": {},
   "outputs": [
    {
     "data": {
      "application/vnd.jupyter.widget-view+json": {
       "model_id": "a63d48bd031346d886203e35380e86d5",
       "version_major": 2,
       "version_minor": 0
      },
      "text/plain": [
       "HBox(children=(IntProgress(value=0), HTML(value='')))"
      ]
     },
     "metadata": {},
     "output_type": "display_data"
    },
    {
     "name": "stdout",
     "output_type": "stream",
     "text": [
      "\n"
     ]
    }
   ],
   "source": [
    "for i in tqdm_notebook(range (0,100)):#len(labels)-1):\n",
    "    if os.path.getsize(labels[i]) != 0:\n",
    "        label = pd.read_csv(labels[i], sep=' ',header=None)\n",
    "        cloud = pcl.load(clouds[i])\n",
    "        if len(label) == 1:\n",
    "            cloud = do_passthrough(cloud, 'x', label[4].values, label[7].values)\n",
    "            cloud = do_passthrough(cloud, 'y', label[5].values, label[8].values)\n",
    "            cloud = do_passthrough(cloud, 'z', label[6].values, label[9].values)\n",
    "            if (cloud.size!=0):\n",
    "                pcl.save(cloud, \"./pcd/test_\"  + str(i) +\".pcd\")                      \n",
    "    "
   ]
  },
  {
   "cell_type": "code",
   "execution_count": 12,
   "metadata": {},
   "outputs": [
    {
     "name": "stdout",
     "output_type": "stream",
     "text": [
      "-rw-r--r-- 1 root root  6628 Dec 12 07:37 ./pcd/test_13.pcd\r\n",
      "-rw-r--r-- 1 root root  5409 Dec 12 07:37 ./pcd/test_14.pcd\r\n",
      "-rw-r--r-- 1 root root  5878 Dec 12 07:37 ./pcd/test_15.pcd\r\n",
      "-rw-r--r-- 1 root root  6077 Dec 12 07:37 ./pcd/test_18.pcd\r\n",
      "-rw-r--r-- 1 root root  5072 Dec 12 07:37 ./pcd/test_2.pcd\r\n",
      "-rw-r--r-- 1 root root  1612 Dec 12 07:37 ./pcd/test_27.pcd\r\n",
      "-rw-r--r-- 1 root root  9075 Dec 12 07:37 ./pcd/test_32.pcd\r\n",
      "-rw-r--r-- 1 root root   782 Dec 12 07:37 ./pcd/test_36.pcd\r\n",
      "-rw-r--r-- 1 root root  1212 Dec 12 07:37 ./pcd/test_38.pcd\r\n",
      "-rw-r--r-- 1 root root  7377 Dec 12 07:37 ./pcd/test_41.pcd\r\n",
      "-rw-r--r-- 1 root root  6291 Dec 12 07:37 ./pcd/test_43.pcd\r\n",
      "-rw-r--r-- 1 root root  7189 Dec 12 07:37 ./pcd/test_44.pcd\r\n",
      "-rw-r--r-- 1 root root  3648 Dec 12 07:37 ./pcd/test_45.pcd\r\n",
      "-rw-r--r-- 1 root root  5429 Dec 12 07:37 ./pcd/test_52.pcd\r\n",
      "-rw-r--r-- 1 root root  3255 Dec 12 07:37 ./pcd/test_54.pcd\r\n",
      "-rw-r--r-- 1 root root  4029 Dec 12 07:37 ./pcd/test_59.pcd\r\n",
      "-rw-r--r-- 1 root root  6001 Dec 12 07:37 ./pcd/test_60.pcd\r\n",
      "-rw-r--r-- 1 root root  5954 Dec 12 07:37 ./pcd/test_62.pcd\r\n",
      "-rw-r--r-- 1 root root  8193 Dec 12 07:37 ./pcd/test_64.pcd\r\n",
      "-rw-r--r-- 1 root root   331 Dec 12 07:37 ./pcd/test_69.pcd\r\n",
      "-rw-r--r-- 1 root root  2721 Dec 12 07:37 ./pcd/test_70.pcd\r\n",
      "-rw-r--r-- 1 root root  5268 Dec 12 07:37 ./pcd/test_72.pcd\r\n",
      "-rw-r--r-- 1 root root 10054 Dec 12 07:37 ./pcd/test_78.pcd\r\n",
      "-rw-r--r-- 1 root root  9474 Dec 12 07:37 ./pcd/test_80.pcd\r\n",
      "-rw-r--r-- 1 root root  6043 Dec 12 07:37 ./pcd/test_81.pcd\r\n",
      "-rw-r--r-- 1 root root  5415 Dec 12 07:37 ./pcd/test_91.pcd\r\n",
      "-rw-r--r-- 1 root root  4111 Dec 12 07:37 ./pcd/test_96.pcd\r\n",
      "-rw-r--r-- 1 root root  6597 Dec 12 07:37 ./pcd/test_99.pcd\r\n"
     ]
    }
   ],
   "source": [
    "!ls -al ./pcd/*.pcd"
   ]
  },
  {
   "cell_type": "markdown",
   "metadata": {},
   "source": [
    "# 결과물 살펴 보기 "
   ]
  },
  {
   "cell_type": "code",
   "execution_count": 38,
   "metadata": {},
   "outputs": [
    {
     "name": "stdout",
     "output_type": "stream",
     "text": [
      "Label File : ./LCAS_20160523_1200_1218_labels/1464001584.906779000.txt\n",
      "PCD File : ./LCAS_20160523_1200_1218_pcd/1464002020.420151000.pcd\n"
     ]
    }
   ],
   "source": [
    "i = 14\n",
    "label = pd.read_csv(labels[i], sep=' ',header=None)\n",
    "cloud = pcl.load(clouds[i])\n",
    "print(\"Label File : {}\".format(labels[i]))\n",
    "print(\"PCD File : {}\".format(clouds[i]))\n"
   ]
  },
  {
   "cell_type": "code",
   "execution_count": 39,
   "metadata": {},
   "outputs": [
    {
     "data": {
      "text/html": [
       "<div>\n",
       "<style scoped>\n",
       "    .dataframe tbody tr th:only-of-type {\n",
       "        vertical-align: middle;\n",
       "    }\n",
       "\n",
       "    .dataframe tbody tr th {\n",
       "        vertical-align: top;\n",
       "    }\n",
       "\n",
       "    .dataframe thead th {\n",
       "        text-align: right;\n",
       "    }\n",
       "</style>\n",
       "<table border=\"1\" class=\"dataframe\">\n",
       "  <thead>\n",
       "    <tr style=\"text-align: right;\">\n",
       "      <th></th>\n",
       "      <th>0</th>\n",
       "      <th>1</th>\n",
       "      <th>2</th>\n",
       "      <th>3</th>\n",
       "      <th>4</th>\n",
       "      <th>5</th>\n",
       "      <th>6</th>\n",
       "      <th>7</th>\n",
       "      <th>8</th>\n",
       "      <th>9</th>\n",
       "      <th>10</th>\n",
       "    </tr>\n",
       "  </thead>\n",
       "  <tbody>\n",
       "    <tr>\n",
       "      <th>0</th>\n",
       "      <td>group</td>\n",
       "      <td>-3.35043</td>\n",
       "      <td>-3.17892</td>\n",
       "      <td>0.339503</td>\n",
       "      <td>-3.52174</td>\n",
       "      <td>-3.66627</td>\n",
       "      <td>-0.421834</td>\n",
       "      <td>-3.15572</td>\n",
       "      <td>-2.6284</td>\n",
       "      <td>0.884972</td>\n",
       "      <td>1</td>\n",
       "    </tr>\n",
       "  </tbody>\n",
       "</table>\n",
       "</div>"
      ],
      "text/plain": [
       "      0        1        2         3        4        5         6        7   \\\n",
       "0  group -3.35043 -3.17892  0.339503 -3.52174 -3.66627 -0.421834 -3.15572   \n",
       "\n",
       "       8         9   10  \n",
       "0 -2.6284  0.884972   1  "
      ]
     },
     "execution_count": 39,
     "metadata": {},
     "output_type": "execute_result"
    }
   ],
   "source": [
    "label"
   ]
  },
  {
   "cell_type": "markdown",
   "metadata": {},
   "source": [
    "```\n",
    "Column 1:\tcategory (pedestrian or group)\n",
    "Column 2-4:\tcentroid (x-y-z)\n",
    "Column 5-7:\tminimum bounds (x-y-z)\n",
    "Column 8-10:\tmaximum bounds (x-y-z)\n",
    "Column 11:\tvisibility (0 = visible, 1 = partially visible)\n",
    "```"
   ]
  },
  {
   "cell_type": "code",
   "execution_count": 40,
   "metadata": {},
   "outputs": [],
   "source": [
    "cloud = do_passthrough(cloud, 'x', label[4].values, label[7].values)\n",
    "cloud = do_passthrough(cloud, 'y', label[5].values, label[8].values)\n",
    "cloud = do_passthrough(cloud, 'z', label[6].values, label[9].values)"
   ]
  },
  {
   "cell_type": "code",
   "execution_count": 41,
   "metadata": {},
   "outputs": [
    {
     "data": {
      "image/png": "[encoded data removed]",
      "text/plain": [
       "<Figure size 432x288 with 1 Axes>"
      ]
     },
     "metadata": {},
     "output_type": "display_data"
    }
   ],
   "source": [
    "fig = plt.figure()\n",
    "ax = fig.add_subplot(111, projection='3d')\n",
    "ax.set_xlim3d(label[4].values-1, label[7].values+1)\n",
    "#ax.set_ylim3d(label[5].values-1,label[8].values+1)\n",
    "#ax.set_zlim3d(label[6].values-1,label[9].values+1)\n",
    "\n",
    "#ax.scatter(cetx, cety, cetz, c='red')\n",
    "#ax.scatter(xmin, ymin, zmin, c='blue')\n",
    "#ax.scatter(xmax, ymax, zmax, c='black')\n",
    "\n",
    "for z in range(1,cloud.size-1):\n",
    "    xs = cloud[z][0]#xs = randrange(n, 23, 32)\n",
    "    ys = cloud[z][1]#randrange(n, 0, 100)\n",
    "    zs = cloud[z][2]#randrange(n, zlow, zhigh)\n",
    "\n",
    "    ax.scatter(xs, ys, zs, c='grey')\n",
    "    \n",
    "\n",
    "plt.show()"
   ]
  },
  {
   "cell_type": "markdown",
   "metadata": {},
   "source": [
    "# 추출된 파일 확인"
   ]
  },
  {
   "cell_type": "code",
   "execution_count": 42,
   "metadata": {},
   "outputs": [
    {
     "name": "stdout",
     "output_type": "stream",
     "text": [
      "159\n"
     ]
    },
    {
     "data": {
      "application/vnd.jupyter.widget-view+json": {
       "model_id": "171cd39d3e844b44805298e4ef5ebc66",
       "version_major": 2,
       "version_minor": 0
      },
      "text/plain": [
       "Output()"
      ]
     },
     "metadata": {},
     "output_type": "display_data"
    },
    {
     "name": "stdout",
     "output_type": "stream",
     "text": [
      "(x) : 0.3m\n",
      "(y) : 0.6m\n",
      "(z) : 1.2m\n"
     ]
    }
   ],
   "source": [
    "filename = \"./pcd/test_\"  + str(i) +\".pcd\"\n",
    "cloud = pcl.load(filename)\n",
    "visualization_inter3D_xyz(cloud.to_array())"
   ]
  },
  {
   "cell_type": "markdown",
   "metadata": {},
   "source": [
    "# 참고자료"
   ]
  },
  {
   "cell_type": "markdown",
   "metadata": {},
   "source": [
    "![image](https://user-images.githubusercontent.com/17797922/49854160-31628380-fd9e-11e8-87a0-43cff62faf96.png)\n",
    "\n",
    "> 출처 : [Python Graphics: A Reference for Creating 2D and 3D Images](https://books.google.co.kr/books?id=KyVhDwAAQBAJ&pg=PA114&lpg=PA114&dq=python+8+corner+box&source=bl&ots=QQ7WLxxvJO&sig=Vju4jej1yfqRwojDHn9SAR4TXMM&hl=ko&sa=X&ved=2ahUKEwjXlqyOt5XfAhWDXbwKHV-cAbYQ6AEwCHoECAUQAQ#v=onepage&q=python%208%20corner%20box&f=false) : 114page"
   ]
  },
  {
   "cell_type": "code",
   "execution_count": null,
   "metadata": {},
   "outputs": [],
   "source": []
  }
 ],
 "metadata": {
  "kernelspec": {
   "display_name": "Python 3",
   "language": "python",
   "name": "python3"
  },
  "language_info": {
   "codemirror_mode": {
    "name": "ipython",
    "version": 3
   },
   "file_extension": ".py",
   "mimetype": "text/x-python",
   "name": "python",
   "nbconvert_exporter": "python",
   "pygments_lexer": "ipython3",
   "version": "3.5.2"
  },
  "toc": {
   "base_numbering": 1,
   "nav_menu": {},
   "number_sections": true,
   "sideBar": true,
   "skip_h1_title": false,
   "title_cell": "Table of Contents",
   "title_sidebar": "Contents",
   "toc_cell": false,
   "toc_position": {},
   "toc_section_display": true,
   "toc_window_display": false
  },
  "varInspector": {
   "cols": {
    "lenName": 16,
    "lenType": 16,
    "lenVar": 40
   },
   "kernels_config": {
    "python": {
     "delete_cmd_postfix": "",
     "delete_cmd_prefix": "del ",
     "library": "var_list.py",
     "varRefreshCmd": "print(var_dic_list())"
    },
    "r": {
     "delete_cmd_postfix": ") ",
     "delete_cmd_prefix": "rm(",
     "library": "var_list.r",
     "varRefreshCmd": "cat(var_dic_list()) "
    }
   },
   "position": {
    "height": "49px",
    "left": "854px",
    "right": "20px",
    "top": "120px",
    "width": "206px"
   },
   "types_to_exclude": [
    "module",
    "function",
    "builtin_function_or_method",
    "instance",
    "_Feature"
   ],
   "window_display": false
  }
 },
 "nbformat": 4,
 "nbformat_minor": 2
}

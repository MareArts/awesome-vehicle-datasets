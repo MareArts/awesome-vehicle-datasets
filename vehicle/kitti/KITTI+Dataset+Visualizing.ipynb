{
 "cells": [
  {
   "cell_type": "markdown",
   "metadata": {
    "ExecuteTime": {
     "end_time": "2017-09-26T11:10:34.646310Z",
     "start_time": "2017-09-26T11:10:34.535819Z"
    }
   },
   "source": [
    "# KITTI Dataset Visualizing\n",
    "\n",
    "https://navoshta.com/kitti-lidar/\n",
    "\n",
    "tracklets parsing"
   ]
  },
  {
   "cell_type": "markdown",
   "metadata": {},
   "source": [
    "## 1. KITTI Data 다운로드 \n",
    "\n",
    "![](https://i.imgur.com/SSP9eG4.png)\n",
    "\n",
    "[Raw Data](http://www.cvlibs.net/datasets/kitti/raw_data.php)\n",
    "- Length: 114 frames (00:11 minutes)\n",
    "- Image resolution: 1392 x 512 pixels\n",
    "- Labels: 12 Cars, 0 Vans, 0 Trucks, 0 Pedestrians, 0 Sitters, 2 Cyclists, 1 Trams, 0 Misc\n",
    "\n",
    "[주의]\n",
    "- This package assumes that you have also downloaded the calibration data associated with the sequences you want to work on (these are separate files from the sequences themselves), and that the directory structure is unchanged from the original structure laid out in the KITTI zip files."
   ]
  },
  {
   "cell_type": "code",
   "execution_count": 18,
   "metadata": {
    "ExecuteTime": {
     "end_time": "2017-09-26T11:24:26.656545Z",
     "start_time": "2017-09-26T11:23:33.817798Z"
    }
   },
   "outputs": [
    {
     "name": "stdout",
     "output_type": "stream",
     "text": [
      "--2017-09-26 11:23:33--  http://kitti.is.tue.mpg.de/kitti/raw_data/2011_09_26_drive_0001/2011_09_26_drive_0001_sync.zip\n",
      "Resolving kitti.is.tue.mpg.de (kitti.is.tue.mpg.de)... 192.124.27.130\n",
      "Connecting to kitti.is.tue.mpg.de (kitti.is.tue.mpg.de)|192.124.27.130|:80... connected.\n",
      "HTTP request sent, awaiting response... 200 OK\n",
      "Length: 458643963 (437M) [application/zip]\n",
      "Saving to: ‘2011_09_26_drive_0001_sync.zip.1’\n",
      "\n",
      "2011_09_26_drive_00 100%[===================>] 437.40M  8.71MB/s    in 52s     \n",
      "\n",
      "2017-09-26 11:24:26 (8.48 MB/s) - ‘2011_09_26_drive_0001_sync.zip.1’ saved [458643963/458643963]\n",
      "\n",
      "--2017-09-26 11:24:26--  http://kitti.is.tue.mpg.de/kitti/raw_data/2011_09_26_calib.zip\n",
      "Resolving kitti.is.tue.mpg.de (kitti.is.tue.mpg.de)... 192.124.27.130\n",
      "Connecting to kitti.is.tue.mpg.de (kitti.is.tue.mpg.de)|192.124.27.130|:80... connected.\n",
      "HTTP request sent, awaiting response... 200 OK\n",
      "Length: 4068 (4.0K) [application/zip]\n",
      "Saving to: ‘2011_09_26_calib.zip.1’\n",
      "\n",
      "2011_09_26_calib.zi 100%[===================>]   3.97K  --.-KB/s    in 0s      \n",
      "\n",
      "2017-09-26 11:24:26 (380 MB/s) - ‘2011_09_26_calib.zip.1’ saved [4068/4068]\n",
      "\n"
     ]
    }
   ],
   "source": [
    "!wget http://kitti.is.tue.mpg.de/kitti/raw_data/2011_09_26_drive_0001/2011_09_26_drive_0001_sync.zip\n",
    "!wget http://kitti.is.tue.mpg.de/kitti/raw_data/2011_09_26_calib.zip\n",
    "!unzip 2011_09_26_drive_0001_sync.zip\n",
    "!unzip 2011_09_26_calib.zip\n",
    "\n",
    "# 추가적으로 다운로드 \n",
    "!wget http://kitti.is.tue.mpg.de/kitti/raw_data/2011_09_26_drive_0001/2011_09_26_drive_0001_tracklets.zip\n",
    "!unzip 2011_09_26_drive_0001_tracklets.zip"
   ]
  },
  {
   "cell_type": "markdown",
   "metadata": {},
   "source": [
    "## 2. pykitti 설치 및 Import  "
   ]
  },
  {
   "cell_type": "code",
   "execution_count": 2,
   "metadata": {
    "ExecuteTime": {
     "end_time": "2017-09-26T13:28:56.493921Z",
     "start_time": "2017-09-26T13:28:55.711677Z"
    }
   },
   "outputs": [
    {
     "name": "stdout",
     "output_type": "stream",
     "text": [
      "Requirement already satisfied: pykitti in /opt/anaconda3/lib/python3.6/site-packages\r\n",
      "Requirement already satisfied: matplotlib in /opt/anaconda3/lib/python3.6/site-packages (from pykitti)\r\n",
      "Requirement already satisfied: numpy in /opt/anaconda3/lib/python3.6/site-packages (from pykitti)\r\n",
      "Requirement already satisfied: six>=1.10 in /opt/anaconda3/lib/python3.6/site-packages (from matplotlib->pykitti)\r\n",
      "Requirement already satisfied: python-dateutil in /opt/anaconda3/lib/python3.6/site-packages (from matplotlib->pykitti)\r\n",
      "Requirement already satisfied: pytz in /opt/anaconda3/lib/python3.6/site-packages (from matplotlib->pykitti)\r\n",
      "Requirement already satisfied: cycler>=0.10 in /opt/anaconda3/lib/python3.6/site-packages (from matplotlib->pykitti)\r\n",
      "Requirement already satisfied: pyparsing!=2.0.4,!=2.1.2,!=2.1.6,>=1.5.6 in /opt/anaconda3/lib/python3.6/site-packages (from matplotlib->pykitti)\r\n"
     ]
    },
    {
     "ename": "ImportError",
     "evalue": "No module named pykitti",
     "output_type": "error",
     "traceback": [
      "\u001b[0;31m---------------------------------------------------------------------------\u001b[0m",
      "\u001b[0;31mImportError\u001b[0m                               Traceback (most recent call last)",
      "\u001b[0;32m<ipython-input-2-f7e9c47c4f83>\u001b[0m in \u001b[0;36m<module>\u001b[0;34m()\u001b[0m\n\u001b[1;32m      1\u001b[0m \u001b[0;31m# https://github.com/utiasSTARS/pykitti\u001b[0m\u001b[0;34m\u001b[0m\u001b[0;34m\u001b[0m\u001b[0m\n\u001b[1;32m      2\u001b[0m \u001b[0mget_ipython\u001b[0m\u001b[0;34m(\u001b[0m\u001b[0;34m)\u001b[0m\u001b[0;34m.\u001b[0m\u001b[0msystem\u001b[0m\u001b[0;34m(\u001b[0m\u001b[0;34mu'pip install pykitti'\u001b[0m\u001b[0;34m)\u001b[0m\u001b[0;34m\u001b[0m\u001b[0m\n\u001b[0;32m----> 3\u001b[0;31m \u001b[0;32mimport\u001b[0m \u001b[0mpykitti\u001b[0m\u001b[0;34m\u001b[0m\u001b[0m\n\u001b[0m\u001b[1;32m      4\u001b[0m \u001b[0;34m\u001b[0m\u001b[0m\n\u001b[1;32m      5\u001b[0m \u001b[0;31m## From Source\u001b[0m\u001b[0;34m\u001b[0m\u001b[0;34m\u001b[0m\u001b[0m\n",
      "\u001b[0;31mImportError\u001b[0m: No module named pykitti"
     ]
    }
   ],
   "source": [
    "# https://github.com/utiasSTARS/pykitti\n",
    "!pip install pykitti\n",
    "import pykitti\n",
    "\n",
    "## From Source \n",
    "# git clone https://github.com/utiasSTARS/pykitti.git\n",
    "# cd pykitti\n",
    "# python setup.py install"
   ]
  },
  {
   "cell_type": "markdown",
   "metadata": {},
   "source": [
    "## 3. `parseTrackletXML.py` 다운로드 및 Import\n",
    "- Methods for parsing tracklets (e.g. dataset labels), originally created by Christian Herdtweck.\n",
    "- https://github.com/navoshta/KITTI-Dataset/tree/master/source"
   ]
  },
  {
   "cell_type": "code",
   "execution_count": 13,
   "metadata": {
    "ExecuteTime": {
     "end_time": "2017-09-26T12:44:05.697045Z",
     "start_time": "2017-09-26T12:44:05.694077Z"
    },
    "collapsed": true
   },
   "outputs": [],
   "source": [
    "! git clone https://github.com/navoshta/KITTI-Dataset.git\n",
    "! cp KITTI-Dataset/source/parseTrackletXML.py ./\n",
    "import parseTrackletXML as xmlParser"
   ]
  },
  {
   "cell_type": "markdown",
   "metadata": {
    "ExecuteTime": {
     "end_time": "2017-09-26T12:13:32.929108Z",
     "start_time": "2017-09-26T12:13:32.817407Z"
    }
   },
   "source": [
    "### 3.1 load_tracklets_for_frames() 정의\n"
   ]
  },
  {
   "cell_type": "code",
   "execution_count": 6,
   "metadata": {
    "ExecuteTime": {
     "end_time": "2017-09-26T13:30:19.118695Z",
     "start_time": "2017-09-26T13:30:19.089380Z"
    },
    "collapsed": true
   },
   "outputs": [],
   "source": [
    "def load_tracklets_for_frames(n_frames, xml_path):\n",
    "    \"\"\"\n",
    "    Loads dataset labels also referred to as tracklets, saving them individually for each frame.\n",
    "\n",
    "    Parameters\n",
    "    ----------\n",
    "    n_frames    : Number of frames in the dataset.\n",
    "    xml_path    : Path to the tracklets XML.\n",
    "\n",
    "    Returns\n",
    "    -------\n",
    "    Tuple of dictionaries with integer keys corresponding to absolute frame numbers and arrays as values. First array\n",
    "    contains coordinates of bounding box vertices for each object in the frame, and the second array contains objects\n",
    "    types as strings.\n",
    "    \"\"\"\n",
    "    tracklets = xmlParser.parseXML(xml_path)\n",
    "\n",
    "    frame_tracklets = {}\n",
    "    frame_tracklets_types = {}\n",
    "    for i in range(n_frames):\n",
    "        frame_tracklets[i] = []\n",
    "        frame_tracklets_types[i] = []\n",
    "\n",
    "    # loop over tracklets\n",
    "    for i, tracklet in enumerate(tracklets):\n",
    "        # this part is inspired by kitti object development kit matlab code: computeBox3D\n",
    "        h, w, l = tracklet.size\n",
    "        # in velodyne coordinates around zero point and without orientation yet\n",
    "        trackletBox = np.array([\n",
    "            [-l / 2, -l / 2, l / 2, l / 2, -l / 2, -l / 2, l / 2, l / 2],\n",
    "            [w / 2, -w / 2, -w / 2, w / 2, w / 2, -w / 2, -w / 2, w / 2],\n",
    "            [0.0, 0.0, 0.0, 0.0, h, h, h, h]\n",
    "        ])\n",
    "        # loop over all data in tracklet\n",
    "        for translation, rotation, state, occlusion, truncation, amtOcclusion, amtBorders, absoluteFrameNumber in tracklet:\n",
    "            # determine if object is in the image; otherwise continue\n",
    "            if truncation not in (xmlParser.TRUNC_IN_IMAGE, xmlParser.TRUNC_TRUNCATED):\n",
    "                continue\n",
    "            # re-create 3D bounding box in velodyne coordinate system\n",
    "            yaw = rotation[2]  # other rotations are supposedly 0\n",
    "            assert np.abs(rotation[:2]).sum() == 0, 'object rotations other than yaw given!'\n",
    "            rotMat = np.array([\n",
    "                [np.cos(yaw), -np.sin(yaw), 0.0],\n",
    "                [np.sin(yaw), np.cos(yaw), 0.0],\n",
    "                [0.0, 0.0, 1.0]\n",
    "            ])\n",
    "            cornerPosInVelo = np.dot(rotMat, trackletBox) + np.tile(translation, (8, 1)).T\n",
    "            frame_tracklets[absoluteFrameNumber] = frame_tracklets[absoluteFrameNumber] + [cornerPosInVelo]\n",
    "            frame_tracklets_types[absoluteFrameNumber] = frame_tracklets_types[absoluteFrameNumber] + [tracklet.objectType]\n",
    "\n",
    "    return (frame_tracklets, frame_tracklets_types)"
   ]
  },
  {
   "cell_type": "markdown",
   "metadata": {
    "ExecuteTime": {
     "end_time": "2017-09-26T11:28:32.307660Z",
     "start_time": "2017-09-26T11:28:32.302792Z"
    }
   },
   "source": [
    "## 3. KITTI data Load\n",
    "- The 'frames' argument is optional - default: None, which loads the whole dataset.\n",
    "- Calibration and timestamp data are read automatically. \n",
    "- Other sensor data (cameras, IMU, Velodyne) are available via properties \n",
    "- that create generators when accessed."
   ]
  },
  {
   "cell_type": "code",
   "execution_count": 30,
   "metadata": {
    "ExecuteTime": {
     "end_time": "2017-09-26T13:24:17.857802Z",
     "start_time": "2017-09-26T13:24:17.841764Z"
    },
    "collapsed": true
   },
   "outputs": [],
   "source": [
    "n_frames = len(list(dataset.velo))\n",
    "\n",
    "frame_tracklets = {}\n",
    "frame_tracklets_types = {}\n",
    "for i in range(n_frames):\n",
    "    frame_tracklets[i] = []\n",
    "    frame_tracklets_types[i] = []\n",
    "\n"
   ]
  },
  {
   "cell_type": "code",
   "execution_count": 31,
   "metadata": {
    "ExecuteTime": {
     "end_time": "2017-09-26T13:24:32.917936Z",
     "start_time": "2017-09-26T13:24:32.897387Z"
    }
   },
   "outputs": [
    {
     "ename": "KeyError",
     "evalue": "10",
     "output_type": "error",
     "traceback": [
      "\u001b[0;31m---------------------------------------------------------------------------\u001b[0m",
      "\u001b[0;31mKeyError\u001b[0m                                  Traceback (most recent call last)",
      "\u001b[0;32m<ipython-input-31-0b0e56b6a04a>\u001b[0m in \u001b[0;36m<module>\u001b[0;34m()\u001b[0m\n\u001b[1;32m     23\u001b[0m         ])\n\u001b[1;32m     24\u001b[0m         \u001b[0mcornerPosInVelo\u001b[0m \u001b[0;34m=\u001b[0m \u001b[0mnp\u001b[0m\u001b[0;34m.\u001b[0m\u001b[0mdot\u001b[0m\u001b[0;34m(\u001b[0m\u001b[0mrotMat\u001b[0m\u001b[0;34m,\u001b[0m \u001b[0mtrackletBox\u001b[0m\u001b[0;34m)\u001b[0m \u001b[0;34m+\u001b[0m \u001b[0mnp\u001b[0m\u001b[0;34m.\u001b[0m\u001b[0mtile\u001b[0m\u001b[0;34m(\u001b[0m\u001b[0mtranslation\u001b[0m\u001b[0;34m,\u001b[0m \u001b[0;34m(\u001b[0m\u001b[0;36m8\u001b[0m\u001b[0;34m,\u001b[0m \u001b[0;36m1\u001b[0m\u001b[0;34m)\u001b[0m\u001b[0;34m)\u001b[0m\u001b[0;34m.\u001b[0m\u001b[0mT\u001b[0m\u001b[0;34m\u001b[0m\u001b[0m\n\u001b[0;32m---> 25\u001b[0;31m         \u001b[0mframe_tracklets\u001b[0m\u001b[0;34m[\u001b[0m\u001b[0mabsoluteFrameNumber\u001b[0m\u001b[0;34m]\u001b[0m \u001b[0;34m=\u001b[0m \u001b[0mframe_tracklets\u001b[0m\u001b[0;34m[\u001b[0m\u001b[0mabsoluteFrameNumber\u001b[0m\u001b[0;34m]\u001b[0m \u001b[0;34m+\u001b[0m \u001b[0;34m[\u001b[0m\u001b[0mcornerPosInVelo\u001b[0m\u001b[0;34m]\u001b[0m\u001b[0;34m\u001b[0m\u001b[0m\n\u001b[0m\u001b[1;32m     26\u001b[0m         \u001b[0mframe_tracklets_types\u001b[0m\u001b[0;34m[\u001b[0m\u001b[0mabsoluteFrameNumber\u001b[0m\u001b[0;34m]\u001b[0m \u001b[0;34m=\u001b[0m \u001b[0mframe_tracklets_types\u001b[0m\u001b[0;34m[\u001b[0m\u001b[0mabsoluteFrameNumber\u001b[0m\u001b[0;34m]\u001b[0m \u001b[0;34m+\u001b[0m \u001b[0;34m[\u001b[0m\u001b[0mtracklet\u001b[0m\u001b[0;34m.\u001b[0m\u001b[0mobjectType\u001b[0m\u001b[0;34m]\u001b[0m\u001b[0;34m\u001b[0m\u001b[0m\n",
      "\u001b[0;31mKeyError\u001b[0m: 10"
     ]
    }
   ],
   "source": [
    "# loop over tracklets\n",
    "for i, tracklet in enumerate(tracklets):\n",
    "    # this part is inspired by kitti object development kit matlab code: computeBox3D\n",
    "    h, w, l = tracklet.size\n",
    "    # in velodyne coordinates around zero point and without orientation yet\n",
    "    trackletBox = np.array([\n",
    "        [-l / 2, -l / 2, l / 2, l / 2, -l / 2, -l / 2, l / 2, l / 2],\n",
    "        [w / 2, -w / 2, -w / 2, w / 2, w / 2, -w / 2, -w / 2, w / 2],\n",
    "        [0.0, 0.0, 0.0, 0.0, h, h, h, h]\n",
    "    ])\n",
    "    # loop over all data in tracklet\n",
    "    for translation, rotation, state, occlusion, truncation, amtOcclusion, amtBorders, absoluteFrameNumber in tracklet:\n",
    "        # determine if object is in the image; otherwise continue\n",
    "        if truncation not in (xmlParser.TRUNC_IN_IMAGE, xmlParser.TRUNC_TRUNCATED):\n",
    "            continue\n",
    "        # re-create 3D bounding box in velodyne coordinate system\n",
    "        yaw = rotation[2]  # other rotations are supposedly 0\n",
    "        assert np.abs(rotation[:2]).sum() == 0, 'object rotations other than yaw given!'\n",
    "        rotMat = np.array([\n",
    "            [np.cos(yaw), -np.sin(yaw), 0.0],\n",
    "            [np.sin(yaw), np.cos(yaw), 0.0],\n",
    "            [0.0, 0.0, 1.0]\n",
    "        ])\n",
    "        cornerPosInVelo = np.dot(rotMat, trackletBox) + np.tile(translation, (8, 1)).T\n",
    "        frame_tracklets[absoluteFrameNumber] = frame_tracklets[absoluteFrameNumber] + [cornerPosInVelo]\n",
    "        frame_tracklets_types[absoluteFrameNumber] = frame_tracklets_types[absoluteFrameNumber] + [tracklet.objectType]"
   ]
  },
  {
   "cell_type": "code",
   "execution_count": 27,
   "metadata": {
    "ExecuteTime": {
     "end_time": "2017-09-26T13:20:35.122959Z",
     "start_time": "2017-09-26T13:20:35.063110Z"
    }
   },
   "outputs": [
    {
     "name": "stdout",
     "output_type": "stream",
     "text": [
      "Parsing tracklet file ./2011_09_26/2011_09_26_drive_0001_sync/tracklet_labels.xml\n",
      "File contains 15 tracklets\n",
      "Loaded 15 tracklets.\n"
     ]
    },
    {
     "ename": "KeyError",
     "evalue": "10",
     "output_type": "error",
     "traceback": [
      "\u001b[0;31m---------------------------------------------------------------------------\u001b[0m",
      "\u001b[0;31mKeyError\u001b[0m                                  Traceback (most recent call last)",
      "\u001b[0;32m<ipython-input-27-8254eed70d0d>\u001b[0m in \u001b[0;36m<module>\u001b[0;34m()\u001b[0m\n\u001b[0;32m----> 1\u001b[0;31m \u001b[0mtracklet_rects\u001b[0m\u001b[0;34m,\u001b[0m \u001b[0mtracklet_types\u001b[0m \u001b[0;34m=\u001b[0m \u001b[0mload_tracklets_for_frames\u001b[0m\u001b[0;34m(\u001b[0m\u001b[0mlen\u001b[0m\u001b[0;34m(\u001b[0m\u001b[0mlist\u001b[0m\u001b[0;34m(\u001b[0m\u001b[0mdataset\u001b[0m\u001b[0;34m.\u001b[0m\u001b[0mvelo\u001b[0m\u001b[0;34m)\u001b[0m\u001b[0;34m)\u001b[0m\u001b[0;34m,\u001b[0m \u001b[0;34m'./{}/{}_drive_{}_sync/tracklet_labels.xml'\u001b[0m\u001b[0;34m.\u001b[0m\u001b[0mformat\u001b[0m\u001b[0;34m(\u001b[0m\u001b[0mdate\u001b[0m\u001b[0;34m,\u001b[0m \u001b[0mdate\u001b[0m\u001b[0;34m,\u001b[0m \u001b[0mdrive\u001b[0m\u001b[0;34m)\u001b[0m\u001b[0;34m)\u001b[0m\u001b[0;34m\u001b[0m\u001b[0m\n\u001b[0m",
      "\u001b[0;32m<ipython-input-24-2cf3b980f29b>\u001b[0m in \u001b[0;36mload_tracklets_for_frames\u001b[0;34m(n_frames, xml_path)\u001b[0m\n\u001b[1;32m     46\u001b[0m             ])\n\u001b[1;32m     47\u001b[0m             \u001b[0mcornerPosInVelo\u001b[0m \u001b[0;34m=\u001b[0m \u001b[0mnp\u001b[0m\u001b[0;34m.\u001b[0m\u001b[0mdot\u001b[0m\u001b[0;34m(\u001b[0m\u001b[0mrotMat\u001b[0m\u001b[0;34m,\u001b[0m \u001b[0mtrackletBox\u001b[0m\u001b[0;34m)\u001b[0m \u001b[0;34m+\u001b[0m \u001b[0mnp\u001b[0m\u001b[0;34m.\u001b[0m\u001b[0mtile\u001b[0m\u001b[0;34m(\u001b[0m\u001b[0mtranslation\u001b[0m\u001b[0;34m,\u001b[0m \u001b[0;34m(\u001b[0m\u001b[0;36m8\u001b[0m\u001b[0;34m,\u001b[0m \u001b[0;36m1\u001b[0m\u001b[0;34m)\u001b[0m\u001b[0;34m)\u001b[0m\u001b[0;34m.\u001b[0m\u001b[0mT\u001b[0m\u001b[0;34m\u001b[0m\u001b[0m\n\u001b[0;32m---> 48\u001b[0;31m             \u001b[0mframe_tracklets\u001b[0m\u001b[0;34m[\u001b[0m\u001b[0mabsoluteFrameNumber\u001b[0m\u001b[0;34m]\u001b[0m \u001b[0;34m=\u001b[0m \u001b[0mframe_tracklets\u001b[0m\u001b[0;34m[\u001b[0m\u001b[0mabsoluteFrameNumber\u001b[0m\u001b[0;34m]\u001b[0m \u001b[0;34m+\u001b[0m \u001b[0;34m[\u001b[0m\u001b[0mcornerPosInVelo\u001b[0m\u001b[0;34m]\u001b[0m\u001b[0;34m\u001b[0m\u001b[0m\n\u001b[0m\u001b[1;32m     49\u001b[0m             \u001b[0mframe_tracklets_types\u001b[0m\u001b[0;34m[\u001b[0m\u001b[0mabsoluteFrameNumber\u001b[0m\u001b[0;34m]\u001b[0m \u001b[0;34m=\u001b[0m \u001b[0mframe_tracklets_types\u001b[0m\u001b[0;34m[\u001b[0m\u001b[0mabsoluteFrameNumber\u001b[0m\u001b[0;34m]\u001b[0m \u001b[0;34m+\u001b[0m \u001b[0;34m[\u001b[0m\u001b[0mtracklet\u001b[0m\u001b[0;34m.\u001b[0m\u001b[0mobjectType\u001b[0m\u001b[0;34m]\u001b[0m\u001b[0;34m\u001b[0m\u001b[0m\n\u001b[1;32m     50\u001b[0m \u001b[0;34m\u001b[0m\u001b[0m\n",
      "\u001b[0;31mKeyError\u001b[0m: 10"
     ]
    }
   ],
   "source": [
    "tracklet_rects, tracklet_types = load_tracklets_for_frames(len(list(dataset.velo)), './{}/{}_drive_{}_sync/tracklet_labels.xml'.format(date, date, drive))\n"
   ]
  },
  {
   "cell_type": "code",
   "execution_count": 8,
   "metadata": {
    "ExecuteTime": {
     "end_time": "2017-09-26T13:30:38.453095Z",
     "start_time": "2017-09-26T13:30:38.258317Z"
    }
   },
   "outputs": [
    {
     "name": "stdout",
     "output_type": "stream",
     "text": [
      "('Parsing tracklet file', './2011_09_26/2011_09_26_drive_0001_sync/tracklet_labels.xml')\n",
      "('File contains', 15, 'tracklets')\n",
      "('Loaded', 15, 'tracklets.')\n"
     ]
    },
    {
     "ename": "TypeError",
     "evalue": "iter() returned non-iterator of type 'list'",
     "output_type": "error",
     "traceback": [
      "\u001b[0;31m---------------------------------------------------------------------------\u001b[0m",
      "\u001b[0;31mTypeError\u001b[0m                                 Traceback (most recent call last)",
      "\u001b[0;32m<ipython-input-8-775f86dba1f7>\u001b[0m in \u001b[0;36m<module>\u001b[0;34m()\u001b[0m\n\u001b[1;32m     13\u001b[0m \u001b[0;31m# imformat='cv2': OpenCV-friendly format (i.e., uint8 with BGR color channel ordering)\u001b[0m\u001b[0;34m\u001b[0m\u001b[0;34m\u001b[0m\u001b[0m\n\u001b[1;32m     14\u001b[0m \u001b[0;34m\u001b[0m\u001b[0m\n\u001b[0;32m---> 15\u001b[0;31m \u001b[0mtracklet_rects\u001b[0m\u001b[0;34m,\u001b[0m \u001b[0mtracklet_types\u001b[0m \u001b[0;34m=\u001b[0m \u001b[0mload_tracklets_for_frames\u001b[0m\u001b[0;34m(\u001b[0m\u001b[0mlen\u001b[0m\u001b[0;34m(\u001b[0m\u001b[0mlist\u001b[0m\u001b[0;34m(\u001b[0m\u001b[0mdataset\u001b[0m\u001b[0;34m.\u001b[0m\u001b[0mvelo\u001b[0m\u001b[0;34m)\u001b[0m\u001b[0;34m)\u001b[0m\u001b[0;34m,\u001b[0m \u001b[0mxml_path\u001b[0m \u001b[0;34m)\u001b[0m\u001b[0;34m\u001b[0m\u001b[0m\n\u001b[0m",
      "\u001b[0;32m<ipython-input-6-2cf3b980f29b>\u001b[0m in \u001b[0;36mload_tracklets_for_frames\u001b[0;34m(n_frames, xml_path)\u001b[0m\n\u001b[1;32m     33\u001b[0m         ])\n\u001b[1;32m     34\u001b[0m         \u001b[0;31m# loop over all data in tracklet\u001b[0m\u001b[0;34m\u001b[0m\u001b[0;34m\u001b[0m\u001b[0m\n\u001b[0;32m---> 35\u001b[0;31m         \u001b[0;32mfor\u001b[0m \u001b[0mtranslation\u001b[0m\u001b[0;34m,\u001b[0m \u001b[0mrotation\u001b[0m\u001b[0;34m,\u001b[0m \u001b[0mstate\u001b[0m\u001b[0;34m,\u001b[0m \u001b[0mocclusion\u001b[0m\u001b[0;34m,\u001b[0m \u001b[0mtruncation\u001b[0m\u001b[0;34m,\u001b[0m \u001b[0mamtOcclusion\u001b[0m\u001b[0;34m,\u001b[0m \u001b[0mamtBorders\u001b[0m\u001b[0;34m,\u001b[0m \u001b[0mabsoluteFrameNumber\u001b[0m \u001b[0;32min\u001b[0m \u001b[0mtracklet\u001b[0m\u001b[0;34m:\u001b[0m\u001b[0;34m\u001b[0m\u001b[0m\n\u001b[0m\u001b[1;32m     36\u001b[0m             \u001b[0;31m# determine if object is in the image; otherwise continue\u001b[0m\u001b[0;34m\u001b[0m\u001b[0;34m\u001b[0m\u001b[0m\n\u001b[1;32m     37\u001b[0m             \u001b[0;32mif\u001b[0m \u001b[0mtruncation\u001b[0m \u001b[0;32mnot\u001b[0m \u001b[0;32min\u001b[0m \u001b[0;34m(\u001b[0m\u001b[0mxmlParser\u001b[0m\u001b[0;34m.\u001b[0m\u001b[0mTRUNC_IN_IMAGE\u001b[0m\u001b[0;34m,\u001b[0m \u001b[0mxmlParser\u001b[0m\u001b[0;34m.\u001b[0m\u001b[0mTRUNC_TRUNCATED\u001b[0m\u001b[0;34m)\u001b[0m\u001b[0;34m:\u001b[0m\u001b[0;34m\u001b[0m\u001b[0m\n",
      "\u001b[0;31mTypeError\u001b[0m: iter() returned non-iterator of type 'list'"
     ]
    }
   ],
   "source": [
    "import os\n",
    "import numpy as np\n",
    "\n",
    "basedir = os.getcwd()\n",
    "date = '2011_09_26'\n",
    "drive = '0001'\n",
    "\n",
    "xml_path = './{}/{}_drive_{}_sync/tracklet_labels.xml'.format(date, date, drive)\n",
    "\n",
    "\n",
    "\n",
    "dataset = pykitti.raw(basedir, date, drive, frames=range(0, 50, 5), imformat='cv2')\n",
    "# imformat='cv2': OpenCV-friendly format (i.e., uint8 with BGR color channel ordering) \n",
    "\n",
    "tracklet_rects, tracklet_types = load_tracklets_for_frames(len(list(dataset.velo)), xml_path )"
   ]
  },
  {
   "cell_type": "code",
   "execution_count": null,
   "metadata": {
    "collapsed": true
   },
   "outputs": [],
   "source": []
  }
 ],
 "metadata": {
  "kernelspec": {
   "display_name": "Python [conda env:python2]",
   "language": "python",
   "name": "conda-env-python2-py"
  },
  "language_info": {
   "codemirror_mode": {
    "name": "ipython",
    "version": 2
   },
   "file_extension": ".py",
   "mimetype": "text/x-python",
   "name": "python",
   "nbconvert_exporter": "python",
   "pygments_lexer": "ipython2",
   "version": "2.7.13"
  },
  "varInspector": {
   "cols": {
    "lenName": 16,
    "lenType": 16,
    "lenVar": 40
   },
   "kernels_config": {
    "python": {
     "delete_cmd_postfix": "",
     "delete_cmd_prefix": "del ",
     "library": "var_list.py",
     "varRefreshCmd": "print(var_dic_list())"
    },
    "r": {
     "delete_cmd_postfix": ") ",
     "delete_cmd_prefix": "rm(",
     "library": "var_list.r",
     "varRefreshCmd": "cat(var_dic_list()) "
    }
   },
   "position": {
    "height": "731px",
    "left": "1550px",
    "right": "20px",
    "top": "120px",
    "width": "350px"
   },
   "types_to_exclude": [
    "module",
    "function",
    "builtin_function_or_method",
    "instance",
    "_Feature"
   ],
   "window_display": true
  }
 },
 "nbformat": 4,
 "nbformat_minor": 2
}

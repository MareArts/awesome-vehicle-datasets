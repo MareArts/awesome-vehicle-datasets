{
 "cells": [
  {
   "cell_type": "code",
   "execution_count": 1,
   "metadata": {
    "collapsed": true
   },
   "outputs": [],
   "source": [
    "import numpy as np\n",
    "import os\n",
    "import matplotlib.pyplot as plt\n"
   ]
  },
  {
   "cell_type": "code",
   "execution_count": 2,
   "metadata": {
    "collapsed": true
   },
   "outputs": [],
   "source": [
    "# ==============================================================================\n",
    "#                                                         POINT_CLOUD_2_BIRDSEYE\n",
    "# ==============================================================================\n",
    "def point_cloud_2_top(points,\n",
    "                      res=0.1,\n",
    "                      zres=0.3,\n",
    "                      side_range=(-10., 10.),  # left-most to right-most\n",
    "                      fwd_range=(-10., 10.),  # back-most to forward-most\n",
    "                      height_range=(-2., 2.),  # bottom-most to upper-most\n",
    "                      ):\n",
    "    \"\"\" Creates an birds eye view representation of the point cloud data for MV3D.\n",
    "\n",
    "    Args:\n",
    "        points:     (numpy array)\n",
    "                    N rows of points data\n",
    "                    Each point should be specified by at least 3 elements x,y,z\n",
    "        res:        (float)\n",
    "                    Desired resolution in metres to use. Each output pixel will\n",
    "                    represent an square region res x res in size.\n",
    "        zres:        (float)\n",
    "                    Desired resolution on Z-axis in metres to use.\n",
    "        side_range: (tuple of two floats)\n",
    "                    (-left, right) in metres\n",
    "                    left and right limits of rectangle to look at.\n",
    "        fwd_range:  (tuple of two floats)\n",
    "                    (-behind, front) in metres\n",
    "                    back and front limits of rectangle to look at.\n",
    "        height_range: (tuple of two floats)\n",
    "                    (min, max) heights (in metres) relative to the origin.\n",
    "                    All height values will be clipped to this min and max value,\n",
    "                    such that anything below min will be truncated to min, and\n",
    "                    the same for values above max.\n",
    "    Returns:\n",
    "        numpy array encoding height features , density and intensity.\n",
    "    \"\"\"\n",
    "    # EXTRACT THE POINTS FOR EACH AXIS\n",
    "    x_points = points[:, 0]\n",
    "    y_points = points[:, 1]\n",
    "    z_points = points[:, 2]\n",
    "    reflectance = points[:,3]\n",
    "\n",
    "    # INITIALIZE EMPTY ARRAY - of the dimensions we want\n",
    "    x_max = int((side_range[1] - side_range[0]) / res)\n",
    "    y_max = int((fwd_range[1] - fwd_range[0]) / res)\n",
    "    z_max = int((height_range[1] - height_range[0]) / zres)\n",
    "    # z_max =\n",
    "    top = np.zeros([y_max+1, x_max+1, z_max+1], dtype=np.float32)\n",
    "\n",
    "    # FILTER - To return only indices of points within desired cube\n",
    "    # Three filters for: Front-to-back, side-to-side, and height ranges\n",
    "    # Note left side is positive y axis in LIDAR coordinates\n",
    "    f_filt = np.logical_and(\n",
    "        (x_points > fwd_range[0]), (x_points < fwd_range[1]))\n",
    "    s_filt = np.logical_and(\n",
    "        (y_points > -side_range[1]), (y_points < -side_range[0]))\n",
    "    filter = np.logical_and(f_filt, s_filt)\n",
    "\n",
    "\n",
    "    # # ASSIGN EACH POINT TO A HEIGHT SLICE\n",
    "    # # n_slices-1 is used because values above max_height get assigned to an\n",
    "    # # extra index when we call np.digitize().\n",
    "    # bins = np.linspace(height_range[0], height_range[1], num=n_slices-1)\n",
    "    # slice_indices = np.digitize(z_points, bins=bins, right=False)\n",
    "    # # RESCALE THE REFLECTANCE VALUES - to be between the range 0-255\n",
    "    # pixel_values = scale_to_255(r_points, min=0.0, max=1.0)\n",
    "    # FILL PIXEL VALUES IN IMAGE ARRAY\n",
    "    # -y is used because images start from top left\n",
    "    # x_max = int((side_range[1] - side_range[0]) / res)\n",
    "    # y_max = int((fwd_range[1] - fwd_range[0]) / res)\n",
    "    # im = np.zeros([y_max, x_max, n_slices], dtype=np.uint8)\n",
    "    # im[-y_img, x_img, slice_indices] = pixel_values\n",
    "\n",
    "\n",
    "    for i, height in enumerate(np.arange(height_range[0], height_range[1], zres)):\n",
    "\n",
    "        z_filt = np.logical_and((z_points >= height),\n",
    "                                (z_points < height + zres))\n",
    "        zfilter = np.logical_and(filter, z_filt)\n",
    "        indices = np.argwhere(zfilter).flatten()\n",
    "\n",
    "        # KEEPERS\n",
    "        xi_points = x_points[indices]\n",
    "        yi_points = y_points[indices]\n",
    "        zi_points = z_points[indices]\n",
    "        ref_i = reflectance[indices]\n",
    "\n",
    "        # print(f_filt.shape)\n",
    "\n",
    "        # CONVERT TO PIXEL POSITION VALUES - Based on resolution\n",
    "        x_img = (-yi_points / res).astype(np.int32)  # x axis is -y in LIDAR\n",
    "        y_img = (-xi_points / res).astype(np.int32)  # y axis is -x in LIDAR\n",
    "\n",
    "        # SHIFT PIXELS TO HAVE MINIMUM BE (0,0)\n",
    "        # floor & ceil used to prevent anything being rounded to below 0 after\n",
    "        # shift\n",
    "        x_img -= int(np.floor(side_range[0] / res))\n",
    "        y_img += int(np.floor(fwd_range[1] / res))\n",
    "\n",
    "        # CLIP HEIGHT VALUES - to between min and max heights\n",
    "        pixel_values = zi_points - height_range[0]\n",
    "        # pixel_values = zi_points\n",
    "\n",
    "        # FILL PIXEL VALUES IN IMAGE ARRAY\n",
    "        top[y_img, x_img, i] = pixel_values\n",
    "\n",
    "        # max_intensity = np.max(prs[idx])\n",
    "        top[y_img, x_img, z_max] = ref_i\n",
    "\n",
    "    return top"
   ]
  },
  {
   "cell_type": "code",
   "execution_count": 26,
   "metadata": {
    "collapsed": true
   },
   "outputs": [],
   "source": [
    "root_dir = \"/workspace/MV3D_TF/data/KITTI/object/testing\"\n",
    "velodyne = os.path.join(root_dir, \"velodyne/\")\n",
    "bird = os.path.join(root_dir, \"lidar_bv/\")\n",
    "side_range = (-30., 30.)\n",
    "fwd_range = (0., 60)\n",
    "height_range = (-2, 0.4) #\n"
   ]
  },
  {
   "cell_type": "code",
   "execution_count": 27,
   "metadata": {
    "collapsed": true
   },
   "outputs": [],
   "source": [
    "i = 1"
   ]
  },
  {
   "cell_type": "code",
   "execution_count": 35,
   "metadata": {},
   "outputs": [
    {
     "name": "stdout",
     "output_type": "stream",
     "text": [
      "('Processing: ', '/workspace/MV3D_TF/data/KITTI/object/testing/velodyne/000001.bin')\n"
     ]
    }
   ],
   "source": [
    "filename = velodyne + str(i).zfill(6) + \".bin\"\n",
    "print(\"Processing: \", filename)\n"
   ]
  },
  {
   "cell_type": "code",
   "execution_count": 36,
   "metadata": {},
   "outputs": [
    {
     "name": "stdout",
     "output_type": "stream",
     "text": [
      "<type 'numpy.ndarray'>\n",
      "(488436,)\n",
      "1\n"
     ]
    }
   ],
   "source": [
    "scan = np.fromfile(filename, dtype=np.float32)\n",
    "print(type(scan))\n",
    "print(scan.shape)\n",
    "print(scan.ndim)"
   ]
  },
  {
   "cell_type": "code",
   "execution_count": 37,
   "metadata": {},
   "outputs": [
    {
     "name": "stdout",
     "output_type": "stream",
     "text": [
      "<type 'numpy.ndarray'>\n",
      "(122109, 4)\n",
      "2\n"
     ]
    }
   ],
   "source": [
    "scan = scan.reshape((-1, 4))\n",
    "print(type(scan))\n",
    "print(scan.shape)\n",
    "print(scan.ndim)"
   ]
  },
  {
   "cell_type": "code",
   "execution_count": 38,
   "metadata": {},
   "outputs": [],
   "source": [
    "bird_view = point_cloud_2_top(scan, res=0.1, zres=0.3,\n",
    "                               side_range=side_range,  # left-most to right-most\n",
    "                               fwd_range=fwd_range,  # back-most to forward-most\n",
    "                               height_range=height_range)"
   ]
  },
  {
   "cell_type": "code",
   "execution_count": 39,
   "metadata": {},
   "outputs": [
    {
     "name": "stdout",
     "output_type": "stream",
     "text": [
      "<type 'numpy.ndarray'>\n",
      "(601, 601, 9)\n",
      "3\n"
     ]
    }
   ],
   "source": [
    "print(type(bird_view))\n",
    "print(bird_view.shape)\n",
    "print(bird_view.ndim)"
   ]
  },
  {
   "cell_type": "code",
   "execution_count": 48,
   "metadata": {
    "collapsed": true
   },
   "outputs": [],
   "source": [
    "#save\n",
    "np.save(\"bird\"+str(i).zfill(6)+\".npy\",bird_view)"
   ]
  },
  {
   "cell_type": "code",
   "execution_count": 51,
   "metadata": {},
   "outputs": [
    {
     "name": "stdout",
     "output_type": "stream",
     "text": [
      "(601, 601, 9)\n"
     ]
    },
    {
     "data": {
      "image/png": "[encoded data removed]",
      "text/plain": [
       "<matplotlib.figure.Figure at 0x7f82b2b85090>"
      ]
     },
     "metadata": {},
     "output_type": "display_data"
    }
   ],
   "source": [
    "# test\n",
    "test = np.load(\"bird\" + str(i).zfill(6) + \".npy\")\n",
    "print(test.shape)\n",
    "plt.imshow(test[:,:,8])\n",
    "plt.show()"
   ]
  },
  {
   "cell_type": "markdown",
   "metadata": {},
   "source": [
    "```python\n",
    "for i in range(7517):\n",
    "    filename = velodyne + str(i).zfill(6) + \".bin\"\n",
    "    print(\"Processing: \", filename)\n",
    "    scan = np.fromfile(filename, dtype=np.float32)\n",
    "    scan = scan.reshape((-1, 4))\n",
    "    bird_view = point_cloud_2_top(scan, res=0.1, zres=0.3,\n",
    "                                   side_range=side_range,  # left-most to right-most\n",
    "                                   fwd_range=fwd_range,  # back-most to forward-most\n",
    "                                   height_range=height_range)\n",
    "    #save\n",
    "    np.save(bird+str(i).zfill(6)+\".npy\",bird_view)\n",
    "```\n",
    "\n"
   ]
  },
  {
   "cell_type": "code",
   "execution_count": null,
   "metadata": {
    "collapsed": true
   },
   "outputs": [],
   "source": []
  }
 ],
 "metadata": {
  "kernelspec": {
   "display_name": "Python [conda env:python2_gpu]",
   "language": "python",
   "name": "conda-env-python2_gpu-py"
  },
  "language_info": {
   "codemirror_mode": {
    "name": "ipython",
    "version": 2
   },
   "file_extension": ".py",
   "mimetype": "text/x-python",
   "name": "python",
   "nbconvert_exporter": "python",
   "pygments_lexer": "ipython2",
   "version": "2.7.13"
  }
 },
 "nbformat": 4,
 "nbformat_minor": 2
}
